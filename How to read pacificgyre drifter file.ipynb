{
 "metadata": {
  "name": ""
 },
 "nbformat": 3,
 "nbformat_minor": 0,
 "worksheets": [
  {
   "cells": [
    {
     "cell_type": "code",
     "collapsed": false,
     "input": [
      "import numpy as np\n",
      "import datetime\n",
      "\n",
      "dir = '/usr/lodyc/hydro/STRASSE/ARGOS_IRIDIUM/'\n",
      "\n",
      "decode_datetime = lambda text: datetime.datetime.strptime(text, '%Y-%m-%d %H:%M:%S') or None\n",
      "\n",
      "data = np.recfromtxt(\n",
      "    dir+'pacificgyre_114957', \n",
      "    delimiter = ';',\n",
      "    names = ('date','lat','lon','s','t'),\n",
      "    skip_header = 1,\n",
      "    converters = { 'date': decode_datetime,},\n",
      ")\n"
     ],
     "language": "python",
     "metadata": {},
     "outputs": [],
     "prompt_number": 1
    },
    {
     "cell_type": "code",
     "collapsed": false,
     "input": [
      "data\n"
     ],
     "language": "python",
     "metadata": {},
     "outputs": [
      {
       "metadata": {},
       "output_type": "pyout",
       "prompt_number": 2,
       "text": [
        "rec.array([(datetime.datetime(2013, 3, 31, 14, 0), 24.371, -38.417, 37.43, 23.59),\n",
        "       (datetime.datetime(2013, 3, 31, 14, 30), 24.37, -38.421, 37.43, 23.67),\n",
        "       (datetime.datetime(2013, 3, 31, 17, 0), 24.361, -38.431, 37.44, 23.91),\n",
        "       ...,\n",
        "       (datetime.datetime(2013, 10, 3, 12, 0), 32.92, -38.484, 37.14, 25.61),\n",
        "       (datetime.datetime(2013, 10, 3, 12, 30), 32.923, -38.484, 37.14, 25.63),\n",
        "       (datetime.datetime(2013, 10, 3, 13, 0), 32.925, -38.483, 37.14, 25.65)], \n",
        "      dtype=[('date', 'O'), ('lat', '<f8'), ('lon', '<f8'), ('s', '<f8'), ('t', '<f8')])"
       ]
      }
     ],
     "prompt_number": 2
    },
    {
     "cell_type": "code",
     "collapsed": false,
     "input": [],
     "language": "python",
     "metadata": {},
     "outputs": []
    }
   ],
   "metadata": {}
  }
 ]
}